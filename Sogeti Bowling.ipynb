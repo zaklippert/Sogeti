{
 "cells": [
  {
   "cell_type": "code",
   "execution_count": 106,
   "metadata": {},
   "outputs": [],
   "source": [
    "def bowling(rolls):\n",
    "    rolls = rolls.upper()\n",
    "    rolls = list(rolls.replace(' ',''))\n",
    "    spare_offset = 1\n",
    "    strike_offset = 2\n",
    "    throws = len(rolls)\n",
    "    bonus1= []\n",
    "    bonus_index1 = []\n",
    "    #indices for throws directly following spares or strikes\n",
    "    for i in range(len(rolls)):\n",
    "        if rolls[i] == '/' or rolls[i] == 'X':\n",
    "            bonus1.append(i)\n",
    "            bonus_index1 = [x + spare_offset for x in bonus1]\n",
    "    bonus_index1 = [i for i in bonus_index1 if i <= throws-2] #allowance for final frame\n",
    "    \n",
    "    #indices for throws 2 rolls after a strike\n",
    "    bonus2 = []\n",
    "    bonus_index2 = []\n",
    "    for i in range(len(rolls)):\n",
    "        if rolls[i] == 'X':\n",
    "            bonus2.append(i)\n",
    "            bonus_index2 = [x + strike_offset for x in bonus2]\n",
    "    bonus_index2 = [i for i in bonus_index2 if i <= throws-3] #allowance for final frame\n",
    "    \n",
    "    #convert character strings to number strings for conversion\n",
    "    for i, r in enumerate(rolls):\n",
    "        if r == 'X':\n",
    "            rolls[i] = '10'\n",
    "        elif r == '-':\n",
    "            rolls[i] = '0'\n",
    "        elif r == '/':\n",
    "            rolls[i] = '100'#placeholder to convert str to int\n",
    "    #convert strings to int\n",
    "    for i in range(len(rolls)):\n",
    "        rolls[i] = int(rolls[i])\n",
    "    for i in range(len(rolls)):\n",
    "        if rolls[i] == 100:\n",
    "            rolls[i] = 10-rolls[i-1]\n",
    "    #total bonus roll totals for first and second throws\n",
    "    spare_score = [rolls[i] for i in bonus_index1]\n",
    "    strike_score = [rolls[i] for i in bonus_index2]\n",
    "    score = sum(rolls)+sum(spare_score)+sum(strike_score)\n",
    "    print('Your score for this game is',score)\n",
    "    "
   ]
  },
  {
   "cell_type": "code",
   "execution_count": 107,
   "metadata": {},
   "outputs": [
    {
     "name": "stdout",
     "output_type": "stream",
     "text": [
      "Your score for this game is 254\n"
     ]
    }
   ],
   "source": [
    "bowling('9 X X X X X 5/ X X X X X')"
   ]
  },
  {
   "cell_type": "code",
   "execution_count": 108,
   "metadata": {},
   "outputs": [
    {
     "name": "stdout",
     "output_type": "stream",
     "text": [
      "Your score for this game is 300\n"
     ]
    }
   ],
   "source": [
    "bowling('X X X X X X X X X X X X')"
   ]
  },
  {
   "cell_type": "code",
   "execution_count": 109,
   "metadata": {},
   "outputs": [
    {
     "name": "stdout",
     "output_type": "stream",
     "text": [
      "Your score for this game is 150\n"
     ]
    }
   ],
   "source": [
    "bowling('5/ 5/ 5/ 5/ 5/ 5/ 5/ 5/ 5/ 5/5')"
   ]
  },
  {
   "cell_type": "code",
   "execution_count": 110,
   "metadata": {},
   "outputs": [
    {
     "name": "stdout",
     "output_type": "stream",
     "text": [
      "Your score for this game is 90\n"
     ]
    }
   ],
   "source": [
    "bowling('9- 9- 9- 9- 9- 9- 9- 9- 9- 9-')"
   ]
  },
  {
   "cell_type": "code",
   "execution_count": null,
   "metadata": {},
   "outputs": [],
   "source": []
  }
 ],
 "metadata": {
  "kernelspec": {
   "display_name": "Python 3",
   "language": "python",
   "name": "python3"
  },
  "language_info": {
   "codemirror_mode": {
    "name": "ipython",
    "version": 3
   },
   "file_extension": ".py",
   "mimetype": "text/x-python",
   "name": "python",
   "nbconvert_exporter": "python",
   "pygments_lexer": "ipython3",
   "version": "3.7.0"
  }
 },
 "nbformat": 4,
 "nbformat_minor": 2
}
