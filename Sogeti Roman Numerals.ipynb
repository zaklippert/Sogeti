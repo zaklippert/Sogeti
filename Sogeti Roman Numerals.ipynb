{
 "cells": [
  {
   "cell_type": "code",
   "execution_count": 18,
   "metadata": {},
   "outputs": [],
   "source": [
    "from collections import OrderedDict"
   ]
  },
  {
   "cell_type": "code",
   "execution_count": 20,
   "metadata": {},
   "outputs": [],
   "source": [
    "akeys = OrderedDict()\n",
    "akeys['M'] = 1000\n",
    "akeys[\"CM\"] = 900\n",
    "akeys[\"D\"] = 500\n",
    "akeys[\"CD\"] = 400\n",
    "akeys[\"C\"] = 100\n",
    "akeys[\"XC\"] = 90\n",
    "akeys[\"L\"] = 50\n",
    "akeys[\"XL\"] = 40\n",
    "akeys[\"X\"] = 10\n",
    "akeys[\"IX\"] = 9\n",
    "akeys[\"V\"] = 5\n",
    "akeys[\"IV\"] = 4\n",
    "akeys[\"I\"] = 1"
   ]
  },
  {
   "cell_type": "code",
   "execution_count": 24,
   "metadata": {},
   "outputs": [],
   "source": [
    "def rom_convert(num):\n",
    "    roman = []\n",
    "    #add roman characters to list highest to lowest and subtract from total until 0\n",
    "    for i in akeys:\n",
    "        if num - akeys[i] >= 0:\n",
    "            freq = int(num/akeys[i])\n",
    "            num -= (freq * akeys[i])\n",
    "            roman.append(i * freq)\n",
    "            if num == 0:\n",
    "                break\n",
    "    final = ''.join(c for c in roman)\n",
    "    print(final)"
   ]
  },
  {
   "cell_type": "code",
   "execution_count": 82,
   "metadata": {
    "scrolled": true
   },
   "outputs": [
    {
     "name": "stdout",
     "output_type": "stream",
     "text": [
      "MCMLXXXIX\n"
     ]
    }
   ],
   "source": [
    "rom_convert(1989)"
   ]
  },
  {
   "cell_type": "code",
   "execution_count": 38,
   "metadata": {},
   "outputs": [],
   "source": [
    "comp = OrderedDict()\n",
    "comp[\"CM\"] = 900\n",
    "comp[\"CD\"] = 400\n",
    "comp[\"XC\"] = 90\n",
    "comp[\"XL\"] = 40\n",
    "comp[\"IX\"] = 9\n",
    "comp[\"IV\"] = 4"
   ]
  },
  {
   "cell_type": "code",
   "execution_count": 68,
   "metadata": {},
   "outputs": [],
   "source": [
    "sing = OrderedDict()\n",
    "sing['M'] = 1000\n",
    "sing[\"D\"] = 500\n",
    "sing[\"C\"] = 100\n",
    "sing[\"L\"] = 50\n",
    "sing[\"X\"] = 10\n",
    "sing[\"V\"] = 5\n",
    "sing[\"I\"] = 1"
   ]
  },
  {
   "cell_type": "code",
   "execution_count": 76,
   "metadata": {},
   "outputs": [],
   "source": [
    "def arabic_convert(num):\n",
    "    sum = 0\n",
    "    #find and remove compound numbers and add value to sum\n",
    "    for i in comp:\n",
    "        if i in num:\n",
    "            sum += comp[i]\n",
    "            num = num.replace(i,'')\n",
    "    #find and remove single character numbers, calculate frequency, and add to sum\n",
    "    for j in sing:\n",
    "        if j in num:\n",
    "            freq = num.count(j)\n",
    "            sum += (freq*sing[j])\n",
    "            num = num.replace(j,'')\n",
    "    print(sum)"
   ]
  },
  {
   "cell_type": "code",
   "execution_count": 83,
   "metadata": {},
   "outputs": [
    {
     "name": "stdout",
     "output_type": "stream",
     "text": [
      "1989\n"
     ]
    }
   ],
   "source": [
    "arabic_convert('MCMLXXXIX')"
   ]
  },
  {
   "cell_type": "code",
   "execution_count": null,
   "metadata": {},
   "outputs": [],
   "source": []
  }
 ],
 "metadata": {
  "kernelspec": {
   "display_name": "Python 3",
   "language": "python",
   "name": "python3"
  },
  "language_info": {
   "codemirror_mode": {
    "name": "ipython",
    "version": 3
   },
   "file_extension": ".py",
   "mimetype": "text/x-python",
   "name": "python",
   "nbconvert_exporter": "python",
   "pygments_lexer": "ipython3",
   "version": "3.7.0"
  }
 },
 "nbformat": 4,
 "nbformat_minor": 2
}
